{
 "cells": [
  {
   "cell_type": "code",
   "execution_count": 185,
   "metadata": {},
   "outputs": [],
   "source": [
    "import os\n",
    "import sys\n",
    "import wget\n",
    "from bs4 import BeautifulSoup\n",
    "from selenium import webdriver\n",
    "from selenium.webdriver.common.keys import Keys\n",
    "from selenium.webdriver.support.ui import WebDriverWait\n",
    "from selenium.webdriver.support import expected_conditions as EC\n",
    "from selenium.webdriver.common.by import By\n",
    "from webdriver_manager.chrome import ChromeDriverManager"
   ]
  },
  {
   "cell_type": "code",
   "execution_count": 74,
   "metadata": {},
   "outputs": [
    {
     "name": "stdout",
     "output_type": "stream",
     "text": [
      "Pixiedust database opened successfully\n",
      "Table VERSION_TRACKER created successfully\n",
      "Table METRICS_TRACKER created successfully\n",
      "\n",
      "Share anonymous install statistics? (opt-out instructions)\n",
      "\n",
      "PixieDust will record metadata on its environment the next time the package is installed or updated. The data is anonymized and aggregated to help plan for future releases, and records only the following values:\n",
      "\n",
      "{\n",
      "   \"data_sent\": currentDate,\n",
      "   \"runtime\": \"python\",\n",
      "   \"application_version\": currentPixiedustVersion,\n",
      "   \"space_id\": nonIdentifyingUniqueId,\n",
      "   \"config\": {\n",
      "       \"repository_id\": \"https://github.com/ibm-watson-data-lab/pixiedust\",\n",
      "       \"target_runtimes\": [\"Data Science Experience\"],\n",
      "       \"event_id\": \"web\",\n",
      "       \"event_organizer\": \"dev-journeys\"\n",
      "   }\n",
      "}\n",
      "You can opt out by calling pixiedust.optOut() in a new cell.\n"
     ]
    },
    {
     "data": {
      "text/html": [
       "\n",
       "        <div style=\"margin:10px\">\n",
       "            <a href=\"https://github.com/ibm-watson-data-lab/pixiedust\" target=\"_new\">\n",
       "                <img src=\"https://github.com/ibm-watson-data-lab/pixiedust/raw/master/docs/_static/pd_icon32.png\" style=\"float:left;margin-right:10px\"/>\n",
       "            </a>\n",
       "            <span>Pixiedust version 1.1.15</span>\n",
       "        </div>\n",
       "        "
      ],
      "text/plain": [
       "<IPython.core.display.HTML object>"
      ]
     },
     "metadata": {},
     "output_type": "display_data"
    },
    {
     "name": "stdout",
     "output_type": "stream",
     "text": [
      "Pixiedust runtime updated. Please restart kernel\n",
      "Table USER_PREFERENCES created successfully\n",
      "Table service_connections created successfully\n"
     ]
    }
   ],
   "source": [
    "# import pixiedust"
   ]
  },
  {
   "cell_type": "code",
   "execution_count": 67,
   "metadata": {},
   "outputs": [
    {
     "name": "stdout",
     "output_type": "stream",
     "text": [
      "\n",
      "Checking for win32 chromedriver:2.46 in cache\n",
      "There is no cached driver. Downloading new one...\n",
      "Trying to download new driver from http://chromedriver.storage.googleapis.com/2.46/chromedriver_win32.zip\n",
      "Unpack archive C:\\Users\\rashmeet\\.wdm\\chromedriver\\2.46\\win32\\chromedriver.zip\n"
     ]
    }
   ],
   "source": [
    "# driver = webdriver.Chrome(ChromeDriverManager().install())"
   ]
  },
  {
   "cell_type": "code",
   "execution_count": 2,
   "metadata": {},
   "outputs": [],
   "source": [
    "# driver = webdriver.Chrome(executable_path=r'C:\\\\Users\\\\rashmeet\\\\chromedriver\\\\chromedriver.exe')\n",
    "# driver.get('https://www.walmart.ca/en/appliances/small-appliances/coffee-espresso-makers/N-6589')"
   ]
  },
  {
   "cell_type": "code",
   "execution_count": 2,
   "metadata": {},
   "outputs": [],
   "source": [
    "women_clothing_start_url = 'https://www.walmart.ca/en/clothing-shoes-accessories/women/womens-dresses/N-417'\n"
   ]
  },
  {
   "cell_type": "code",
   "execution_count": null,
   "metadata": {},
   "outputs": [],
   "source": [
    "# # Find login button\n",
    "# login_button = driver.find_element_by_name('submit')\n",
    "# # Click login\n",
    "# login_button.click()"
   ]
  },
  {
   "cell_type": "code",
   "execution_count": 3,
   "metadata": {},
   "outputs": [
    {
     "name": "stdout",
     "output_type": "stream",
     "text": [
      "Fetching from ============>  https://www.walmart.ca/en/clothing-shoes-accessories/women/womens-dresses/N-417\n"
     ]
    }
   ],
   "source": [
    "filepath = 'E:\\\\Rashmeet_SJSU\\\\Sem IV\\\\CS 298\\\\L2\\\\women\\\\'\n",
    "\n",
    "\n",
    "for pos in range(0, len(women_clothing_urls)):\n",
    "    driver = webdriver.Chrome(executable_path=r'C:\\\\Users\\\\rashmeet\\\\chromedriver\\\\chromedriver.exe')\n",
    "    start_url = women_clothing_start_url\n",
    "    try:\n",
    "        driver.get(start_url)\n",
    "        print(\"Fetching from ============> \", start_url)\n",
    "        res = driver.execute_script(\"return document.documentElement.outerHTML\")\n",
    "        soup = BeautifulSoup(res, 'lxml')\n",
    "        box = soup.find('div', {'class':'zone zone3 wgrid-10of12 wgrid-6of8 wgrid-4of4'})\n",
    "        nextbox = box.findAll(\"div\", {'class':'centered-img-wrap'})\n",
    "        image_urls = []\n",
    "        for tag in nextbox:\n",
    "            cont = tag.contents[1]\n",
    "            attr = cont.attrs\n",
    "            image_urls.append('https:'+ attr['data-original'])\n",
    "        driver.quit()\n",
    "        for i in range(1, len(image_urls)):\n",
    "            url = image_urls[i]\n",
    "            try:\n",
    "                wget.download(url, out = filepath + str(pos) + str(i) + '.jpg')\n",
    "            except:\n",
    "                continue\n",
    "    except:\n",
    "        continue\n",
    "\n",
    "    "
   ]
  },
  {
   "cell_type": "code",
   "execution_count": 183,
   "metadata": {},
   "outputs": [],
   "source": [
    "\n",
    "start_url = 'https://www.walmart.ca/en/electronics/ipad-tablets/android-tablets/N-3467'\n",
    "filepath = 'E:\\\\Rashmeet_SJSU\\\\Sem IV\\\\CS 298\\\\L2\\\\android tablets\\\\'\n",
    "\n"
   ]
  },
  {
   "cell_type": "code",
   "execution_count": 184,
   "metadata": {},
   "outputs": [
    {
     "name": "stdout",
     "output_type": "stream",
     "text": [
      "Fetching from ============>  https://www.walmart.ca/en/electronics/ipad-tablets/android-tablets/N-3467\n",
      "/en/electronics/ipad-tablets/android-tablets/N-3467/page-2\n",
      "Start URL https://www.walmart.ca/en/electronics/ipad-tablets/android-tablets/N-3467/page-2\n",
      "Fetching from ============>  https://www.walmart.ca/en/electronics/ipad-tablets/android-tablets/N-3467/page-2\n",
      "Previous\n",
      "/en/electronics/ipad-tablets/android-tablets/N-3467/page-3\n",
      "Start URL https://www.walmart.ca/en/electronics/ipad-tablets/android-tablets/N-3467/page-3\n",
      "Fetching from ============>  https://www.walmart.ca/en/electronics/ipad-tablets/android-tablets/N-3467/page-3\n",
      "Previous\n",
      "Start URL \n",
      "out of the loop\n"
     ]
    }
   ],
   "source": [
    "while True:\n",
    "    try:\n",
    "        driver = webdriver.Chrome(executable_path=r'C:\\\\Users\\\\rashmeet\\\\chromedriver\\\\chromedriver.exe')\n",
    "        driver.get(start_url)\n",
    "        print(\"Fetching from ============> \", start_url)\n",
    "        res = driver.execute_script(\"return document.documentElement.outerHTML\")\n",
    "        soup = BeautifulSoup(res, 'lxml')\n",
    "        next_page_div = soup.find('div', {'class':'page-select-list-container'})\n",
    "        # print(next_page_div.prettify())\n",
    "        next_page = next_page_div.findAll(\"a\",attrs = {'class':'page-select-list-btn'} )\n",
    "        # print(next_page)\n",
    "        next_url = ''\n",
    "        for i in next_page:\n",
    "        \n",
    "            if 'next results page' in str(i):\n",
    "                next_url = 'https://www.walmart.ca' + str(i.get('href'))\n",
    "            else:\n",
    "                print(\"Previous\")\n",
    "        start_url = next_url\n",
    "        \n",
    "        print(\"Start URL\" , start_url)\n",
    "        \n",
    "    except:\n",
    "        break\n",
    "        \n",
    "\n",
    "print(\"out of the loop\")\n",
    "\n"
   ]
  },
  {
   "cell_type": "code",
   "execution_count": null,
   "metadata": {},
   "outputs": [],
   "source": []
  },
  {
   "cell_type": "code",
   "execution_count": 169,
   "metadata": {},
   "outputs": [
    {
     "name": "stdout",
     "output_type": "stream",
     "text": [
      "DIV++++++++++++++++++++>>>>>>> <div class=\"page-select-list-container\">\n",
      " <ul class=\"page-select-list\">\n",
      "  <li class=\"selected\">\n",
      "   <a analytics-data=\"results page 1\" analytics-trigger=\"search\" href=\"/en/electronics/ipad-tablets/android-tablets/N-3467/page-1\">\n",
      "    1\n",
      "   </a>\n",
      "  </li>\n",
      "  <li class=\"\">\n",
      "   <a analytics-data=\"results page 2\" analytics-trigger=\"search\" href=\"/en/electronics/ipad-tablets/android-tablets/N-3467/page-2\">\n",
      "    2\n",
      "   </a>\n",
      "  </li>\n",
      "  <li class=\"\">\n",
      "   <a analytics-data=\"results page 3\" analytics-trigger=\"search\" href=\"/en/electronics/ipad-tablets/android-tablets/N-3467/page-3\">\n",
      "    3\n",
      "   </a>\n",
      "  </li>\n",
      " </ul>\n",
      " <a analytics-data=\"next results page\" analytics-trigger=\"search\" aria-label=\"Next 60 items\" attr-page-id=\"1\" class=\"page-select-list-btn\" href=\"/en/electronics/ipad-tablets/android-tablets/N-3467/page-2\" id=\"loadmore\">\n",
      "  ›\n",
      " </a>\n",
      "</div>\n",
      "\n",
      "NP:---------------------------------------------->  [<a analytics-data=\"next results page\" analytics-trigger=\"search\" aria-label=\"Next 60 items\" attr-page-id=\"1\" class=\"page-select-list-btn\" href=\"/en/electronics/ipad-tablets/android-tablets/N-3467/page-2\" id=\"loadmore\">›</a>]\n",
      "/en/electronics/ipad-tablets/android-tablets/N-3467/page-2\n"
     ]
    }
   ],
   "source": [
    "next_page_div = soup.find('div', {'class':'page-select-list-container'})\n",
    "print(\"DIV++++++++++++++++++++>>>>>>>\", next_page_div.prettify())\n",
    "next_page = next_page_div.findAll(\"a\",attrs = {'class':'page-select-list-btn'} )\n",
    "\n",
    "print(\"NP:----------------------------------------------> \",next_page)\n",
    "\n",
    "next_url = ''\n",
    "\n",
    "for i in next_page:\n",
    "    if 'next results page' in str(i):\n",
    "        print(i.get('href'))\n",
    "        next_url = 'https://www.walmart.ca' + str(i.get('href'))\n",
    "    else:\n",
    "        print(\"Previous\")"
   ]
  },
  {
   "cell_type": "code",
   "execution_count": 129,
   "metadata": {},
   "outputs": [],
   "source": [
    "# driver = webdriver.Chrome(executable_path=r'C:\\\\Users\\\\rashmeet\\\\chromedriver\\\\chromedriver.exe')\n",
    "# driver.get(women_clothing_urls[0])\n",
    "# res = driver.execute_script(\"return document.documentElement.outerHTML\")\n",
    "# soup = BeautifulSoup(res, 'lxml')\n",
    "# print(soup.prettify())\n",
    "# box = soup.find('div', {'class':'zone zone3 wgrid-10of12 wgrid-6of8 wgrid-4of4'})\n",
    "# print(box.prettify())\n",
    "# nextbox = box.findAll(\"div\", {'class':'centered-img-wrap'})\n",
    "# print(nextbox.prettify())\n",
    "\n"
   ]
  },
  {
   "cell_type": "code",
   "execution_count": null,
   "metadata": {},
   "outputs": [],
   "source": []
  },
  {
   "cell_type": "code",
   "execution_count": 170,
   "metadata": {},
   "outputs": [
    {
     "name": "stdout",
     "output_type": "stream",
     "text": [
      "<div class=\"page-select-list-container\">\n",
      " <ul class=\"page-select-list\">\n",
      "  <li class=\"selected\">\n",
      "   <a analytics-data=\"results page 1\" analytics-trigger=\"search\" href=\"/en/electronics/ipad-tablets/android-tablets/N-3467/page-1\">\n",
      "    1\n",
      "   </a>\n",
      "  </li>\n",
      "  <li class=\"\">\n",
      "   <a analytics-data=\"results page 2\" analytics-trigger=\"search\" href=\"/en/electronics/ipad-tablets/android-tablets/N-3467/page-2\">\n",
      "    2\n",
      "   </a>\n",
      "  </li>\n",
      "  <li class=\"\">\n",
      "   <a analytics-data=\"results page 3\" analytics-trigger=\"search\" href=\"/en/electronics/ipad-tablets/android-tablets/N-3467/page-3\">\n",
      "    3\n",
      "   </a>\n",
      "  </li>\n",
      " </ul>\n",
      " <a analytics-data=\"next results page\" analytics-trigger=\"search\" aria-label=\"Next 60 items\" attr-page-id=\"1\" class=\"page-select-list-btn\" href=\"/en/electronics/ipad-tablets/android-tablets/N-3467/page-2\" id=\"loadmore\">\n",
      "  ›\n",
      " </a>\n",
      "</div>\n",
      "\n",
      "/en/electronics/ipad-tablets/android-tablets/N-3467/page-2\n"
     ]
    }
   ],
   "source": [
    "next_page_div = soup.find('div', {'class':'page-select-list-container'})\n",
    "print(next_page_div.prettify())\n",
    "next_page = next_page_div.findAll(\"a\",attrs = {'class':'page-select-list-btn'} )\n",
    "# print(next_page)\n",
    "next_url = ''\n",
    "for i in next_page:\n",
    "    print(i.get('href'))\n",
    "    next_url = 'https://www.walmart.ca' + str(i.get('href'))\n",
    "    \n",
    "\n"
   ]
  },
  {
   "cell_type": "code",
   "execution_count": 41,
   "metadata": {},
   "outputs": [
    {
     "data": {
      "text/plain": [
       "'https://www.walmart.ca/en/clothing-shoes-accessories/women/womens-dresses/N-417/page-2'"
      ]
     },
     "execution_count": 41,
     "metadata": {},
     "output_type": "execute_result"
    }
   ],
   "source": [
    "next_url\n",
    "\n",
    "\n"
   ]
  },
  {
   "cell_type": "code",
   "execution_count": null,
   "metadata": {},
   "outputs": [],
   "source": [
    "driver.find_element_by_id('page-select-list-container')"
   ]
  },
  {
   "cell_type": "code",
   "execution_count": 151,
   "metadata": {},
   "outputs": [],
   "source": [
    "# image_urls = []\n",
    "# for tag in nextbox:\n",
    "#     cont = tag.contents[1]\n",
    "#     attr = cont.attrs\n",
    "#     image_urls.append('https:'+ attr['data-original\n",
    "\n",
    "# image_urls"
   ]
  },
  {
   "cell_type": "code",
   "execution_count": 42,
   "metadata": {},
   "outputs": [],
   "source": [
    "# driver.quit()"
   ]
  },
  {
   "cell_type": "code",
   "execution_count": 165,
   "metadata": {},
   "outputs": [],
   "source": [
    "# for i in range(1, len(image_urls)):\n",
    "#     url = image_urls[i]\n",
    "#     wget.download(url, out = 'E:\\\\Rashmeet_SJSU\\\\Sem IV\\\\CS 298\\\\image_crawler\\\\appliances\\\\'+ str(i) + '.jpg')"
   ]
  },
  {
   "cell_type": "code",
   "execution_count": null,
   "metadata": {},
   "outputs": [],
   "source": []
  }
 ],
 "metadata": {
  "kernelspec": {
   "display_name": "Python 3",
   "language": "python",
   "name": "python3"
  },
  "language_info": {
   "codemirror_mode": {
    "name": "ipython",
    "version": 3
   },
   "file_extension": ".py",
   "mimetype": "text/x-python",
   "name": "python",
   "nbconvert_exporter": "python",
   "pygments_lexer": "ipython3",
   "version": "3.6.3"
  }
 },
 "nbformat": 4,
 "nbformat_minor": 2
}
